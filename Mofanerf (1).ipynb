{
  "cells": [
    {
      "cell_type": "code",
      "execution_count": null,
      "metadata": {
        "id": "do__kQZwjMdg"
      },
      "outputs": [],
      "source": [
        "from google.colab import drive\n",
        "drive.mount('/content/gdrive')"
      ]
    },
    {
      "cell_type": "code",
      "execution_count": null,
      "metadata": {
        "id": "rBZMCprOk0c4"
      },
      "outputs": [],
      "source": [
        "%cd gdrive/MyDrive/"
      ]
    },
    {
      "cell_type": "markdown",
      "metadata": {
        "id": "pm7KPxqUk0UF"
      },
      "source": []
    },
    {
      "cell_type": "code",
      "source": [
        "! git clone https://github.com/zhuhao-nju/mofanerf.git"
      ],
      "metadata": {
        "id": "L9DAfC6Wjm9_"
      },
      "execution_count": null,
      "outputs": []
    },
    {
      "cell_type": "code",
      "execution_count": null,
      "metadata": {
        "id": "M46mkkz4kWzY"
      },
      "outputs": [],
      "source": [
        "%cd mofanerf"
      ]
    },
    {
      "cell_type": "code",
      "execution_count": null,
      "metadata": {
        "id": "7MHnaDJLjIZG"
      },
      "outputs": [],
      "source": [
        "import sys\n",
        "sys.path"
      ]
    },
    {
      "cell_type": "code",
      "execution_count": null,
      "metadata": {
        "id": "oeucbkLAjK4-"
      },
      "outputs": [],
      "source": [
        "import sys\n",
        "sys.path.append(\"/usr/local/lib/python3.9/site-packages\")"
      ]
    },
    {
      "cell_type": "code",
      "execution_count": null,
      "metadata": {
        "id": "vhl95UM0wU-p"
      },
      "outputs": [],
      "source": [
        "#can take forever\n",
        "!pip install dlib==19.22.1 -vvv"
      ]
    },
    {
      "cell_type": "code",
      "execution_count": null,
      "metadata": {
        "id": "ERlFEllo3Eb0"
      },
      "outputs": [],
      "source": [
        "!pip install -r requirements.txt"
      ]
    },
    {
      "cell_type": "code",
      "execution_count": null,
      "metadata": {
        "id": "EVRsagWlWjys",
        "colab": {
          "base_uri": "https://localhost:8080/"
        },
        "outputId": "d627666b-22bb-4953-85ca-ef98fe9edb4e"
      },
      "outputs": [
        {
          "output_type": "stream",
          "name": "stdout",
          "text": [
            "/content/gdrive/MyDrive/mofanerf\n"
          ]
        }
      ],
      "source": [
        "%cd /content/gdrive/MyDrive/mofanerf"
      ]
    },
    {
      "cell_type": "code",
      "execution_count": null,
      "metadata": {
        "id": "k7SJANnIhoBw"
      },
      "outputs": [],
      "source": [
        "!chmod +x download_pretrained_models.sh\n",
        "#need to run this line first to give permission "
      ]
    },
    {
      "cell_type": "code",
      "execution_count": null,
      "metadata": {
        "id": "sL4OzNF0gygg"
      },
      "outputs": [],
      "source": [
        "%%bash \n",
        "./download_pretrained_models.sh"
      ]
    },
    {
      "cell_type": "code",
      "source": [
        "#Go modify the file instead as following to run on GPU with only 10GB memory \n",
        "#\"Reminder: If your GPU has memory of only 10GB, we recommend that you modify parameters \"netchunk\",\"chunk\" from 196608 to 16384, \n",
        "#\"N_rand\" from 1024 to 64 in ./configs/exp_mofanerf.txt.\"\n",
        "#to run on google colab premium GPU run this line:\n",
        "#!pip3 install torch==1.9.0+cu111 torchvision==0.10.0+cu111 torchaudio==0.9.0 -f https://download.pytorch.org/whl/torch_stable.html"
      ],
      "metadata": {
        "id": "bh3_W3C9ByHv"
      },
      "execution_count": null,
      "outputs": []
    },
    {
      "cell_type": "code",
      "execution_count": null,
      "metadata": {
        "id": "gHuXlxpCoo0L"
      },
      "outputs": [],
      "source": [
        "!python ./tools/wildData_preprocess.py --filePath ./data/fit/"
      ]
    },
    {
      "cell_type": "code",
      "execution_count": null,
      "metadata": {
        "id": "t6sFfmdr5jVS"
      },
      "outputs": [],
      "source": [
        "!python run_fit.py --filePath ./data/fit/segRelRes/1.png"
      ]
    },
    {
      "cell_type": "code",
      "execution_count": null,
      "metadata": {
        "id": "hNmj6vKqA2Yv"
      },
      "outputs": [],
      "source": [
        "!python run_fit.py --filePath ./data/fit/segRelRes/1.png --renderType rendering  "
      ]
    },
    {
      "cell_type": "code",
      "execution_count": null,
      "metadata": {
        "id": "-JFApbqlDJHY"
      },
      "outputs": [],
      "source": [
        "!python run_refine.py --name facescape --nerf_folder ./data/fit/fitting/segRelRes_1/render/"
      ]
    }
  ],
  "metadata": {
    "accelerator": "GPU",
    "colab": {
      "provenance": []
    },
    "gpuClass": "standard",
    "kernelspec": {
      "display_name": "Python 3",
      "name": "python3"
    },
    "language_info": {
      "name": "python"
    }
  },
  "nbformat": 4,
  "nbformat_minor": 0
}